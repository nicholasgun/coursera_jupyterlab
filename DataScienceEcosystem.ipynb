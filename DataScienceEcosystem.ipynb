{
  "metadata": {
    "kernelspec": {
      "name": "python",
      "display_name": "Python (Pyodide)",
      "language": "python"
    },
    "language_info": {
      "codemirror_mode": {
        "name": "python",
        "version": 3
      },
      "file_extension": ".py",
      "mimetype": "text/x-python",
      "name": "python",
      "nbconvert_exporter": "python",
      "pygments_lexer": "ipython3",
      "version": "3.8"
    }
  },
  "nbformat_minor": 5,
  "nbformat": 4,
  "cells": [
    {
      "id": "f8bbb22a-b5b9-486b-88f6-a2d5aeedbc05",
      "cell_type": "markdown",
      "source": "# Data Science Tools and Ecosystem",
      "metadata": {}
    },
    {
      "id": "cd31a018-e90b-4c15-a701-f5e0fc23639c",
      "cell_type": "markdown",
      "source": "In this notebook, Data Science Tools and Ecosystem are summarized.",
      "metadata": {}
    },
    {
      "id": "6730f47f-c9c8-4ecb-823d-637a4c71f120",
      "cell_type": "markdown",
      "source": "**Objectives:**\n\n- Understand and list popular languages used in Data Science.\n- Identify commonly used libraries in Data Science.\n- Explore open-source development environment tools for Data Science.\n- Create and format tables using Markdown in Jupyter Notebook.\n- Gain familiarity with Markdown syntax for documentation purposes.",
      "metadata": {}
    },
    {
      "id": "e6877278-4de4-427e-ba89-cad7ac23d7fa",
      "cell_type": "markdown",
      "source": "Some of the popular languages that Data Scientists use are:\n1. Python\n2. R\n3. Julia\n4. Scala",
      "metadata": {}
    },
    {
      "id": "f5994822-7d38-4f9a-9a8d-906edeace053",
      "cell_type": "markdown",
      "source": "Some of the commonly used libraries used by Data Scientists include:\n1. Pandas\n2. Numpy\n3. Matplotlib",
      "metadata": {}
    },
    {
      "id": "1ed815af-90ee-4a44-9db0-122a6e6e2235",
      "cell_type": "markdown",
      "source": "| Data Science Tools        |\n|---------------------------|\n| Jupyter Notebook          |\n| RStudio                   |\n| Numpy           |",
      "metadata": {}
    },
    {
      "id": "186e24ba-febc-4b0a-bb22-a10f5d542805",
      "cell_type": "markdown",
      "source": "### Below are a few examples of evaluating arithmetic expressions in Python.",
      "metadata": {}
    },
    {
      "id": "1c577df5-d278-41a2-869f-97aa63832ad3",
      "cell_type": "code",
      "source": "# This a simple arithmetic expression to mutiply then add integers\n(3*4)+5",
      "metadata": {
        "trusted": true
      },
      "outputs": [
        {
          "execution_count": 3,
          "output_type": "execute_result",
          "data": {
            "text/plain": "17"
          },
          "metadata": {}
        }
      ],
      "execution_count": 3
    },
    {
      "id": "bb078cc3-59b1-43bf-8174-5c9ae6dd1467",
      "cell_type": "code",
      "source": "# This will convert 200 minutes to hours by diving by 60\n200/60",
      "metadata": {
        "trusted": true
      },
      "outputs": [
        {
          "execution_count": 4,
          "output_type": "execute_result",
          "data": {
            "text/plain": "3.3333333333333335"
          },
          "metadata": {}
        }
      ],
      "execution_count": 4
    },
    {
      "id": "8fc828f7-8bbb-45de-b771-3b1e5c72e215",
      "cell_type": "markdown",
      "source": "## Author\nNicholas Gunawan",
      "metadata": {}
    }
  ]
}